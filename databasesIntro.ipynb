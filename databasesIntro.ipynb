{
 "cells": [
  {
   "cell_type": "code",
   "execution_count": 1,
   "metadata": {
    "collapsed": true
   },
   "outputs": [],
   "source": [
    "# Importing the required library\n",
    "import sqlite3"
   ]
  },
  {
   "cell_type": "code",
   "execution_count": 2,
   "metadata": {
    "collapsed": true
   },
   "outputs": [],
   "source": [
    "# Creating or Connecting to the existing database\n",
    "db = sqlite3.connect('test.db')"
   ]
  },
  {
   "cell_type": "code",
   "execution_count": null,
   "metadata": {},
   "outputs": [],
   "source": [
    "# Creating a table in a Database\n",
    "cursor = db.cursor()\n",
    "cursor.execute('''CREATE TABLE users(id INTEGER PRIMARY KEY,name TEXT,\n",
    "                phone TEXT,email TEXT unique,password TEXT)''')\n",
    "db.commit()"
   ]
  },
  {
   "cell_type": "code",
   "execution_count": 10,
   "metadata": {
    "collapsed": true
   },
   "outputs": [],
   "source": [
    "# Deleting a table in a database\n",
    "cursor=db.cursor()\n",
    "cursor.execute('''DROP TABLE users''')\n",
    "db.commit()"
   ]
  },
  {
   "cell_type": "code",
   "execution_count": 11,
   "metadata": {
    "collapsed": true
   },
   "outputs": [],
   "source": [
    "# Creating the table again\n",
    "cursor.execute('''CREATE TABLE users(id INTEGER PRIMARY KEY,name TEXT,\n",
    "                phone TEXT,email TEXT unique,password TEXT)''')\n",
    "db.commit()"
   ]
  },
  {
   "cell_type": "code",
   "execution_count": 12,
   "metadata": {},
   "outputs": [
    {
     "name": "stdout",
     "output_type": "stream",
     "text": [
      "First User Inserted\n",
      "Second User Inserted\n"
     ]
    }
   ],
   "source": [
    "# Inserting an elements into the database\n",
    "cursor=db.cursor()\n",
    "name1='Jeevan'\n",
    "phone1='64873866'\n",
    "email1='jeevan.thomaskoshy@gmail.com'\n",
    "password1 = '123456'\n",
    "\n",
    "name2='Alex'\n",
    "phone2='476238728'\n",
    "email2='alex@gmail.com'\n",
    "password2='qwerty'\n",
    "\n",
    "# Inserting the first User\n",
    "cursor.execute('''INSERT INTO users(name,phone,email,password) \n",
    "                VALUES(?,?,?,?)''',(name1,phone1,email1,password1))\n",
    "print(\"First User Inserted\")\n",
    "\n",
    "# Insert the Second User\n",
    "cursor.execute('''INSERT INTO users(name,phone,email,password) \n",
    "                VALUES(?,?,?,?)''',(name2,phone2,email2,password2))\n",
    "print(\"Second User Inserted\")\n",
    "# Another possible way to insert is via using a dictionary"
   ]
  },
  {
   "cell_type": "code",
   "execution_count": 13,
   "metadata": {},
   "outputs": [
    {
     "name": "stdout",
     "output_type": "stream",
     "text": [
      "Last row id: 2\n"
     ]
    }
   ],
   "source": [
    "# Obtaining the id of the last row that was inserted into the database\n",
    "id = cursor.lastrowid\n",
    "print('Last row id: %d' % id)"
   ]
  },
  {
   "cell_type": "code",
   "execution_count": 20,
   "metadata": {},
   "outputs": [
    {
     "name": "stdout",
     "output_type": "stream",
     "text": [
      "Jeevan\n"
     ]
    },
    {
     "ename": "AttributeError",
     "evalue": "'unicode' object has no attribute 'k'",
     "output_type": "error",
     "traceback": [
      "\u001b[0;31m---------------------------------------------------------------------------\u001b[0m",
      "\u001b[0;31mAttributeError\u001b[0m                            Traceback (most recent call last)",
      "\u001b[0;32m<ipython-input-20-a27b1de9db6d>\u001b[0m in \u001b[0;36m<module>\u001b[0;34m()\u001b[0m\n\u001b[1;32m      5\u001b[0m \u001b[0mall_rows\u001b[0m \u001b[0;34m=\u001b[0m \u001b[0mcursor\u001b[0m\u001b[0;34m.\u001b[0m\u001b[0mfetchall\u001b[0m\u001b[0;34m(\u001b[0m\u001b[0;34m)\u001b[0m\u001b[0;34m\u001b[0m\u001b[0m\n\u001b[1;32m      6\u001b[0m \u001b[0;32mfor\u001b[0m \u001b[0mrow\u001b[0m \u001b[0;32min\u001b[0m \u001b[0mall_rows\u001b[0m\u001b[0;34m:\u001b[0m\u001b[0;34m\u001b[0m\u001b[0m\n\u001b[0;32m----> 7\u001b[0;31m     \u001b[0;32mprint\u001b[0m\u001b[0;34m(\u001b[0m\u001b[0;34m'{0} : {1} : {2}'\u001b[0m\u001b[0;34m.\u001b[0m\u001b[0mformat\u001b[0m\u001b[0;34m(\u001b[0m\u001b[0mk\u001b[0m\u001b[0;34m[\u001b[0m\u001b[0;36m0\u001b[0m\u001b[0;34m]\u001b[0m\u001b[0;34m,\u001b[0m\u001b[0mk\u001b[0m\u001b[0;34m[\u001b[0m\u001b[0;36m1\u001b[0m\u001b[0;34m]\u001b[0m\u001b[0;34m.\u001b[0m\u001b[0mk\u001b[0m\u001b[0;34m[\u001b[0m\u001b[0;36m2\u001b[0m\u001b[0;34m]\u001b[0m\u001b[0;34m)\u001b[0m\u001b[0;34m)\u001b[0m\u001b[0;34m\u001b[0m\u001b[0m\n\u001b[0m",
      "\u001b[0;31mAttributeError\u001b[0m: 'unicode' object has no attribute 'k'"
     ]
    }
   ],
   "source": [
    "# Retrieving Data \n",
    "cursor.execute('''SELECT name,email,phone FROM USERS''')\n",
    "user1=cursor.fetchone()\n",
    "print(user1[0])\n",
    "all_rows = cursor.fetchall()\n",
    "# for row in all_rows:\n",
    "#     print('{0} : {1} : {2}'.format(k[0],k[1].k[2]))"
   ]
  },
  {
   "cell_type": "code",
   "execution_count": 23,
   "metadata": {},
   "outputs": [
    {
     "name": "stdout",
     "output_type": "stream",
     "text": [
      "Jeevan : jeevan.thomaskoshy@gmail.com, 64873866\n",
      "Alex : alex@gmail.com, 476238728\n"
     ]
    }
   ],
   "source": [
    "cursor.execute('''SELECT name, email, phone FROM users''')\n",
    "for row in cursor:\n",
    "    # row[0] returns the first column in the query (name), row[1] returns email column.\n",
    "    print('{0} : {1}, {2}'.format(row[0], row[1], row[2]))"
   ]
  },
  {
   "cell_type": "code",
   "execution_count": 26,
   "metadata": {
    "collapsed": true
   },
   "outputs": [],
   "source": [
    "user_id = 2\n",
    "cursor.execute('''SELECT name, email, phone FROM users WHERE id=?''', (user_id,))\n",
    "user = cursor.fetchone()"
   ]
  },
  {
   "cell_type": "code",
   "execution_count": 27,
   "metadata": {},
   "outputs": [
    {
     "data": {
      "text/plain": [
       "(u'Alex', u'alex@gmail.com', u'476238728')"
      ]
     },
     "execution_count": 27,
     "metadata": {},
     "output_type": "execute_result"
    }
   ],
   "source": [
    "user"
   ]
  },
  {
   "cell_type": "code",
   "execution_count": 28,
   "metadata": {},
   "outputs": [
    {
     "data": {
      "text/plain": [
       "<sqlite3.Cursor at 0x7f7e144fa6c0>"
      ]
     },
     "execution_count": 28,
     "metadata": {},
     "output_type": "execute_result"
    }
   ],
   "source": [
    "newphone = '3113093164'\n",
    "userid = 1\n",
    "cursor.execute('''UPDATE users SET phone = ? WHERE id = ? ''',(newphone, userid))"
   ]
  },
  {
   "cell_type": "code",
   "execution_count": 29,
   "metadata": {
    "collapsed": true
   },
   "outputs": [],
   "source": [
    "delete_userid = 2\n",
    "cursor.execute('''DELETE FROM users WHERE id = ? ''', (delete_userid,))\n",
    " \n",
    "db.commit()"
   ]
  },
  {
   "cell_type": "code",
   "execution_count": null,
   "metadata": {
    "collapsed": true
   },
   "outputs": [],
   "source": []
  }
 ],
 "metadata": {
  "kernelspec": {
   "display_name": "Python 2",
   "language": "python",
   "name": "python2"
  },
  "language_info": {
   "codemirror_mode": {
    "name": "ipython",
    "version": 2
   },
   "file_extension": ".py",
   "mimetype": "text/x-python",
   "name": "python",
   "nbconvert_exporter": "python",
   "pygments_lexer": "ipython2",
   "version": "2.7.12"
  }
 },
 "nbformat": 4,
 "nbformat_minor": 2
}
